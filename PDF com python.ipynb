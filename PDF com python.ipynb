{
 "cells": [
  {
   "cell_type": "markdown",
   "id": "a6a423e7",
   "metadata": {},
   "source": [
    "# PROJETO"
   ]
  },
  {
   "cell_type": "code",
   "execution_count": null,
   "id": "6064cf5c",
   "metadata": {},
   "outputs": [],
   "source": [
    "print(\"Orçamento gerado com sucesso!\")\n",
    "print(\"Mensagem 2\")\n",
    "print(\"Mensagem 3\")"
   ]
  },
  {
   "cell_type": "markdown",
   "id": "ef633228",
   "metadata": {},
   "source": [
    "# Entrada de dados - usuário"
   ]
  },
  {
   "cell_type": "code",
   "execution_count": 4,
   "id": "37e62f99",
   "metadata": {},
   "outputs": [],
   "source": [
    "projeto = input(\"Digite a descrição do projeto: \")\n",
    "horas_estimadas = input(\"Digite a quantidade de horas estimadas: \")\n",
    "valor_hora = input(\"Digite o valor da hora trabalhada: \")\n",
    "prazo = input(\"Digite o prazo estimado do projeto: \")"
   ]
  },
  {
   "cell_type": "markdown",
   "id": "897bb2fe",
   "metadata": {},
   "source": [
    "# Cálculo"
   ]
  },
  {
   "cell_type": "code",
   "execution_count": 5,
   "id": "ba74a989",
   "metadata": {},
   "outputs": [],
   "source": [
    "valor_total = int(horas_estimadas) * int(valor_hora)"
   ]
  },
  {
   "cell_type": "code",
   "execution_count": 1,
   "id": "bfd533e9",
   "metadata": {},
   "outputs": [
    {
     "data": {
      "text/plain": [
       "str"
      ]
     },
     "execution_count": 1,
     "metadata": {},
     "output_type": "execute_result"
    }
   ],
   "source": [
    "type(\"nico\")"
   ]
  },
  {
   "cell_type": "markdown",
   "id": "934205de",
   "metadata": {},
   "source": [
    "# PDF do orçamento"
   ]
  },
  {
   "cell_type": "code",
   "execution_count": null,
   "id": "d0b3bb9a",
   "metadata": {},
   "outputs": [],
   "source": [
    "!pip install fpdf"
   ]
  },
  {
   "cell_type": "code",
   "execution_count": 6,
   "id": "391eb147",
   "metadata": {},
   "outputs": [],
   "source": [
    "from fpdf import FPDF"
   ]
  },
  {
   "cell_type": "code",
   "execution_count": 10,
   "id": "c2c50325",
   "metadata": {},
   "outputs": [
    {
     "data": {
      "text/plain": [
       "''"
      ]
     },
     "execution_count": 10,
     "metadata": {},
     "output_type": "execute_result"
    }
   ],
   "source": [
    "pdf = FPDF()\n",
    "\n",
    "pdf.add_page()\n",
    "pdf.set_font(\"Arial\")\n",
    "\n",
    "pdf.text(115, 145, projeto)\n",
    "pdf.text(115, 160, horas_estimadas)\n",
    "pdf.text(115, 175, valor_hora)\n",
    "pdf.text(115, 190, prazo)\n",
    "pdf.text(115, 205, str(valor_total))\n",
    "\n",
    "pdf.output(\"Orçamento Python.pdf\")"
   ]
  },
  {
   "cell_type": "code",
   "execution_count": null,
   "id": "6791330f",
   "metadata": {},
   "outputs": [],
   "source": []
  }
 ],
 "metadata": {
  "kernelspec": {
   "display_name": "Python 3",
   "language": "python",
   "name": "python3"
  },
  "language_info": {
   "codemirror_mode": {
    "name": "ipython",
    "version": 3
   },
   "file_extension": ".py",
   "mimetype": "text/x-python",
   "name": "python",
   "nbconvert_exporter": "python",
   "pygments_lexer": "ipython3",
   "version": "3.11.1"
  },
  "vscode": {
   "interpreter": {
    "hash": "e2f558903ebb366eb24fb3cd5baac26fc8f4a72e46e49dc2540e0f2439199d98"
   }
  }
 },
 "nbformat": 4,
 "nbformat_minor": 5
}
